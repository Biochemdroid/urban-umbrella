def serial_addition_calc(concentration_of_target):

    import pandas as pd
    import os

    conc_of_target =  concentration_of_target
    dilution_difference = []

    #Enter the starting volume of your sample (alter if needed):
    vol = (200*(10**-6))

    #Here are the final concentrations of target that are desired:
    concentration_dilution = [1, 5, 10, 50, 100, 250, 500]
    dilutions = [i*(10**-9) for i in concentration_dilution]

    #The percent (x) we are diluting by each serial addition.
    percent_dil = [10000, 1000, 1000, 100, 100, 100, 10]

    dilution_difference.append(dilutions[0])
    d = dilutions[1]-dilutions[0]
    dilution_difference.append(d)

    #Iterating through each dilution to take into account the volume difference:
    for dil in dilutions[2:]:
        dilution_x = (dil-d)
        dilution_difference.append(dilution_x)
        d = dilution_x
        
    #Adjusting dilution factors accordingly
    x_dilution = [(conc_of_target/i) for i in percent_dil]
    percent_dil = [("{}x".format(i)) for i in percent_dil]

    #Placeholder
    num = -1
    solution = []
    sample_vol = []

    #Essentially [C1*V1 = C2 * V2]
    for i in dilution_difference:
        num = num + 1
        V = ((vol * i)/x_dilution[num])
        vol = vol+V
        sample_vol.append(vol*1000000)
        sol = V*(10**6)
        solution.append(sol)


    data = {"Total Dilution (x):":  percent_dil,
            "Final [target], nM:":  concentration_dilution,
            "Target in Moles:":  dilutions,
            "Dillution Diff (moles):":  dilution_difference,
            "New Sample Volume, µL:": sample_vol,
            "Which Target Concentration to Add From:": x_dilution,
            "How Much Target to Add, µL:":  solution,
            }

    data = pd.DataFrame(data)
    data = data.set_index('Total Dilution (x):')

    excel_path = os.getcwd()
    #file name will need to be changed if using code more than one time!! Or will overwrite existing file.
    file_name = 'serial_additions'
    entire_path = excel_path + '/' + file_name +'.xlsx'
    print("Your DataFrame is saved in the following location:" + entire_path)
    data.to_excel(entire_path, index = False)

    return(data)



     
